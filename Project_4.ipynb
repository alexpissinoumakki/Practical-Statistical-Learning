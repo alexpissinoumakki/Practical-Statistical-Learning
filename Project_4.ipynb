{
 "cells": [
  {
   "cell_type": "markdown",
   "id": "a6bbcbba",
   "metadata": {},
   "source": [
    "# Project 4 - Movie Recommendations\n",
    "\n",
    "#### Alex Pissinou Makki"
   ]
  },
  {
   "cell_type": "code",
   "execution_count": 2,
   "id": "6011943a",
   "metadata": {},
   "outputs": [],
   "source": [
    "library(dplyr)\n",
    "library(ggplot2)\n",
    "library(recommenderlab)\n",
    "library(DT)\n",
    "library(data.table)\n",
    "library(reshape2)\n",
    "\n",
    "set.seed(1528)"
   ]
  },
  {
   "cell_type": "code",
   "execution_count": 3,
   "id": "7e7e0c56",
   "metadata": {},
   "outputs": [],
   "source": [
    "myurl = \"https://liangfgithub.github.io/MovieData/\""
   ]
  },
  {
   "cell_type": "markdown",
   "id": "e7b2138b",
   "metadata": {},
   "source": [
    "## System I: Recommendation based on genres\n",
    "\n",
    "Suppose you know the user's favorite genre. How would you recommend movies to him/her?\n",
    "\n",
    "Propose **two** recommendation schemes along with all necessary technical details.\n",
    "\n",
    "For example, you can recommend the top-five most popular movies in that genre, then you have to define what you mean by \"most popular\". Or recommend the top-five highly-rated movies in that genre; again need to define what you mean by highly-rated. (Will the movie that receives only one 5-point review be considered highly rated?) Or recommend the most trendy movies in that genre; define how you measure trendiness.\n",
    "\n",
    "For this part, you do not really need `recommenderlab`. Some data waggling/summary tools would be enough."
   ]
  },
  {
   "cell_type": "markdown",
   "id": "d7ecd59a",
   "metadata": {},
   "source": [
    "#### Read in Data"
   ]
  },
  {
   "cell_type": "markdown",
   "id": "794559f3",
   "metadata": {},
   "source": [
    "##### ratings data"
   ]
  },
  {
   "cell_type": "code",
   "execution_count": 4,
   "id": "9b13233f",
   "metadata": {},
   "outputs": [],
   "source": [
    "# use colClasses = 'NULL' to skip columns\n",
    "ratings = read.csv(paste0(myurl, 'ratings.dat?raw=true'), \n",
    "                   sep = ':',\n",
    "                   colClasses = c('integer', 'NULL'), \n",
    "                   header = FALSE)\n",
    "colnames(ratings) = c('UserID', 'MovieID', 'Rating', 'Timestamp')"
   ]
  },
  {
   "cell_type": "markdown",
   "id": "a3b24f20",
   "metadata": {},
   "source": [
    "##### movies data\n",
    "\n",
    "In `movies.dat`, some movie names contain single colon (`:`), so the method above does not work."
   ]
  },
  {
   "cell_type": "code",
   "execution_count": 5,
   "id": "47428af5",
   "metadata": {},
   "outputs": [],
   "source": [
    "movies = readLines(paste0(myurl, 'movies.dat?raw=true'))\n",
    "movies = strsplit(movies, split = \"::\", fixed = TRUE, useBytes = TRUE)\n",
    "movies = matrix(unlist(movies), ncol = 3, byrow = TRUE)\n",
    "movies = data.frame(movies, stringsAsFactors = FALSE)\n",
    "colnames(movies) = c('MovieID', 'Title', 'Genres')\n",
    "movies$MovieID = as.integer(movies$MovieID)\n",
    "\n",
    "# convert accented characters\n",
    "movies$Title = iconv(movies$Title, \"latin1\", \"UTF-8\")\n",
    "\n",
    "# extract year\n",
    "movies$Year = as.numeric(unlist(\n",
    "  lapply(movies$Title, function(x) substr(x, nchar(x)-4, nchar(x)-1))))"
   ]
  },
  {
   "cell_type": "markdown",
   "id": "4c75ca1c",
   "metadata": {},
   "source": [
    "##### user data"
   ]
  },
  {
   "cell_type": "code",
   "execution_count": 6,
   "id": "995c49ed",
   "metadata": {},
   "outputs": [],
   "source": [
    "users = read.csv(paste0(myurl, 'users.dat?raw=true'),\n",
    "                 sep = ':', header = FALSE)\n",
    "users = users[, -c(2,4,6,8)] # skip columns\n",
    "colnames(users) = c('UserID', 'Gender', 'Age', 'Occupation', 'Zip-code')"
   ]
  },
  {
   "cell_type": "markdown",
   "id": "cf13bc20",
   "metadata": {},
   "source": [
    "### Recommendation Scheme I: Top-5 Highest-Rated Movies"
   ]
  },
  {
   "cell_type": "markdown",
   "id": "59853cc1",
   "metadata": {},
   "source": [
    "Here, we define \"highest-rated\" as movies that have the highest average ratings having at least 100 user ratings. The minimum user ratings limitation is meant to ensure that a movie is not ranked on top only because it has a small number of people rate it high."
   ]
  },
  {
   "cell_type": "markdown",
   "id": "db2af7d5",
   "metadata": {},
   "source": [
    "To compute the most popular movies per genre, we, first, find the movies in the given genre. Then, we filter out the movies with less than 100 user reviews. For the remaining movies, we compute the average ratings and return the 5 movie with the highest average rating."
   ]
  },
  {
   "cell_type": "code",
   "execution_count": 7,
   "id": "08bf288f",
   "metadata": {},
   "outputs": [],
   "source": [
    "recommend_by_genre_avg <- function(genre, num_rec = 5) {\n",
    "    # aggregate reviews for each movie\n",
    "    tmp = ratings %>% \n",
    "      group_by(MovieID) %>% \n",
    "      summarize(num_ratings = n(), avg_ratings = mean(Rating)) %>%\n",
    "      inner_join(movies, by = 'MovieID')\n",
    "    # filter movies by minimum number of ratings required\n",
    "    min_num_ratings = 100\n",
    "    popular_avg_ratings = as.data.frame(tmp %>% \n",
    "      filter(num_ratings >= min_num_ratings), stringsAsFactors=FALSE)\n",
    "    # create a binary movies x genres + MovieID matrix\n",
    "    genres = as.data.frame(movies$Genres, stringsAsFactors=FALSE)\n",
    "    tmp = as.data.frame(tstrsplit(genres[,1], '[|]',\n",
    "                                  type.convert=TRUE),\n",
    "                        stringsAsFactors=FALSE)\n",
    "    genre_list = c(\"Action\", \"Adventure\", \"Animation\", \n",
    "                   \"Children's\", \"Comedy\", \"Crime\",\n",
    "                   \"Documentary\", \"Drama\", \"Fantasy\",\n",
    "                   \"Film-Noir\", \"Horror\", \"Musical\", \n",
    "                   \"Mystery\", \"Romance\", \"Sci-Fi\", \n",
    "                   \"Thriller\", \"War\", \"Western\")\n",
    "    m = length(genre_list)\n",
    "    genre_matrix = matrix(0, nrow(movies), length(genre_list))\n",
    "    for(i in 1:nrow(tmp)){\n",
    "      genre_matrix[i,genre_list %in% tmp[i,]]=1\n",
    "    }\n",
    "    colnames(genre_matrix) = genre_list\n",
    "    genre_matrix <- cbind(genre_matrix, MovieID = movies$MovieID)\n",
    "    remove(\"tmp\", \"genres\")\n",
    "    # create a joined matrix of movies in the `genre` and associated avg. rating\n",
    "    # sorted descending\n",
    "    genre_movies = as.data.frame(genre_matrix[genre_matrix[, genre] == 1,,drop=FALSE],\n",
    "                             stringsAsFactors=FALSE)\n",
    "    genre_avg_ratings = popular_avg_ratings %>% \n",
    "        inner_join(genre_movies, by = 'MovieID')\n",
    "    genre_avg_ratings = genre_avg_ratings[order(-genre_avg_ratings$avg_ratings),]\n",
    "    return(head(genre_avg_ratings, num_rec))\n",
    "}"
   ]
  },
  {
   "cell_type": "markdown",
   "id": "a9bc40cc",
   "metadata": {},
   "source": [
    "As an example, for the `\"War\"` genre, you can see that we have returned the top 5 movies with the highest `avg_ratings` and a minimum of 100 `ratings_per_movie`."
   ]
  },
  {
   "cell_type": "code",
   "execution_count": 8,
   "id": "12087b89",
   "metadata": {},
   "outputs": [
    {
     "data": {
      "text/html": [
       "<table class=\"dataframe\">\n",
       "<caption>A data.frame: 5 × 24</caption>\n",
       "<thead>\n",
       "\t<tr><th></th><th scope=col>MovieID</th><th scope=col>num_ratings</th><th scope=col>avg_ratings</th><th scope=col>Title</th><th scope=col>Genres</th><th scope=col>Year</th><th scope=col>Action</th><th scope=col>Adventure</th><th scope=col>Animation</th><th scope=col>Children's</th><th scope=col>⋯</th><th scope=col>Fantasy</th><th scope=col>Film-Noir</th><th scope=col>Horror</th><th scope=col>Musical</th><th scope=col>Mystery</th><th scope=col>Romance</th><th scope=col>Sci-Fi</th><th scope=col>Thriller</th><th scope=col>War</th><th scope=col>Western</th></tr>\n",
       "\t<tr><th></th><th scope=col>&lt;dbl&gt;</th><th scope=col>&lt;int&gt;</th><th scope=col>&lt;dbl&gt;</th><th scope=col>&lt;chr&gt;</th><th scope=col>&lt;chr&gt;</th><th scope=col>&lt;dbl&gt;</th><th scope=col>&lt;dbl&gt;</th><th scope=col>&lt;dbl&gt;</th><th scope=col>&lt;dbl&gt;</th><th scope=col>&lt;dbl&gt;</th><th scope=col>⋯</th><th scope=col>&lt;dbl&gt;</th><th scope=col>&lt;dbl&gt;</th><th scope=col>&lt;dbl&gt;</th><th scope=col>&lt;dbl&gt;</th><th scope=col>&lt;dbl&gt;</th><th scope=col>&lt;dbl&gt;</th><th scope=col>&lt;dbl&gt;</th><th scope=col>&lt;dbl&gt;</th><th scope=col>&lt;dbl&gt;</th><th scope=col>&lt;dbl&gt;</th></tr>\n",
       "</thead>\n",
       "<tbody>\n",
       "\t<tr><th scope=row>12</th><td> 527</td><td>2304</td><td>4.510417</td><td>Schindler's List (1993)                                                    </td><td>Drama|War        </td><td>1993</td><td>0</td><td>0</td><td>0</td><td>0</td><td>⋯</td><td>0</td><td>0</td><td>0</td><td>0</td><td>0</td><td>0</td><td>0</td><td>0</td><td>1</td><td>0</td></tr>\n",
       "\t<tr><th scope=row>25</th><td>1178</td><td> 230</td><td>4.473913</td><td>Paths of Glory (1957)                                                      </td><td>Drama|War        </td><td>1957</td><td>0</td><td>0</td><td>0</td><td>0</td><td>⋯</td><td>0</td><td>0</td><td>0</td><td>0</td><td>0</td><td>0</td><td>0</td><td>0</td><td>1</td><td>0</td></tr>\n",
       "\t<tr><th scope=row>15</th><td> 750</td><td>1367</td><td>4.449890</td><td>Dr. Strangelove or: How I Learned to Stop Worrying and Love the Bomb (1963)</td><td>Sci-Fi|War       </td><td>1963</td><td>0</td><td>0</td><td>0</td><td>0</td><td>⋯</td><td>0</td><td>0</td><td>0</td><td>0</td><td>0</td><td>0</td><td>1</td><td>0</td><td>1</td><td>0</td></tr>\n",
       "\t<tr><th scope=row>17</th><td> 912</td><td>1669</td><td>4.412822</td><td>Casablanca (1942)                                                          </td><td>Drama|Romance|War</td><td>1942</td><td>0</td><td>0</td><td>0</td><td>0</td><td>⋯</td><td>0</td><td>0</td><td>0</td><td>0</td><td>0</td><td>1</td><td>0</td><td>0</td><td>1</td><td>0</td></tr>\n",
       "\t<tr><th scope=row>29</th><td>1204</td><td> 831</td><td>4.401925</td><td>Lawrence of Arabia (1962)                                                  </td><td>Adventure|War    </td><td>1962</td><td>0</td><td>1</td><td>0</td><td>0</td><td>⋯</td><td>0</td><td>0</td><td>0</td><td>0</td><td>0</td><td>0</td><td>0</td><td>0</td><td>1</td><td>0</td></tr>\n",
       "</tbody>\n",
       "</table>\n"
      ],
      "text/latex": [
       "A data.frame: 5 × 24\n",
       "\\begin{tabular}{r|lllllllllllllllllllll}\n",
       "  & MovieID & num\\_ratings & avg\\_ratings & Title & Genres & Year & Action & Adventure & Animation & Children's & ⋯ & Fantasy & Film-Noir & Horror & Musical & Mystery & Romance & Sci-Fi & Thriller & War & Western\\\\\n",
       "  & <dbl> & <int> & <dbl> & <chr> & <chr> & <dbl> & <dbl> & <dbl> & <dbl> & <dbl> & ⋯ & <dbl> & <dbl> & <dbl> & <dbl> & <dbl> & <dbl> & <dbl> & <dbl> & <dbl> & <dbl>\\\\\n",
       "\\hline\n",
       "\t12 &  527 & 2304 & 4.510417 & Schindler's List (1993)                                                     & Drama\\textbar{}War         & 1993 & 0 & 0 & 0 & 0 & ⋯ & 0 & 0 & 0 & 0 & 0 & 0 & 0 & 0 & 1 & 0\\\\\n",
       "\t25 & 1178 &  230 & 4.473913 & Paths of Glory (1957)                                                       & Drama\\textbar{}War         & 1957 & 0 & 0 & 0 & 0 & ⋯ & 0 & 0 & 0 & 0 & 0 & 0 & 0 & 0 & 1 & 0\\\\\n",
       "\t15 &  750 & 1367 & 4.449890 & Dr. Strangelove or: How I Learned to Stop Worrying and Love the Bomb (1963) & Sci-Fi\\textbar{}War        & 1963 & 0 & 0 & 0 & 0 & ⋯ & 0 & 0 & 0 & 0 & 0 & 0 & 1 & 0 & 1 & 0\\\\\n",
       "\t17 &  912 & 1669 & 4.412822 & Casablanca (1942)                                                           & Drama\\textbar{}Romance\\textbar{}War & 1942 & 0 & 0 & 0 & 0 & ⋯ & 0 & 0 & 0 & 0 & 0 & 1 & 0 & 0 & 1 & 0\\\\\n",
       "\t29 & 1204 &  831 & 4.401925 & Lawrence of Arabia (1962)                                                   & Adventure\\textbar{}War     & 1962 & 0 & 1 & 0 & 0 & ⋯ & 0 & 0 & 0 & 0 & 0 & 0 & 0 & 0 & 1 & 0\\\\\n",
       "\\end{tabular}\n"
      ],
      "text/markdown": [
       "\n",
       "A data.frame: 5 × 24\n",
       "\n",
       "| <!--/--> | MovieID &lt;dbl&gt; | num_ratings &lt;int&gt; | avg_ratings &lt;dbl&gt; | Title &lt;chr&gt; | Genres &lt;chr&gt; | Year &lt;dbl&gt; | Action &lt;dbl&gt; | Adventure &lt;dbl&gt; | Animation &lt;dbl&gt; | Children's &lt;dbl&gt; | ⋯ ⋯ | Fantasy &lt;dbl&gt; | Film-Noir &lt;dbl&gt; | Horror &lt;dbl&gt; | Musical &lt;dbl&gt; | Mystery &lt;dbl&gt; | Romance &lt;dbl&gt; | Sci-Fi &lt;dbl&gt; | Thriller &lt;dbl&gt; | War &lt;dbl&gt; | Western &lt;dbl&gt; |\n",
       "|---|---|---|---|---|---|---|---|---|---|---|---|---|---|---|---|---|---|---|---|---|---|\n",
       "| 12 |  527 | 2304 | 4.510417 | Schindler's List (1993)                                                     | Drama|War         | 1993 | 0 | 0 | 0 | 0 | ⋯ | 0 | 0 | 0 | 0 | 0 | 0 | 0 | 0 | 1 | 0 |\n",
       "| 25 | 1178 |  230 | 4.473913 | Paths of Glory (1957)                                                       | Drama|War         | 1957 | 0 | 0 | 0 | 0 | ⋯ | 0 | 0 | 0 | 0 | 0 | 0 | 0 | 0 | 1 | 0 |\n",
       "| 15 |  750 | 1367 | 4.449890 | Dr. Strangelove or: How I Learned to Stop Worrying and Love the Bomb (1963) | Sci-Fi|War        | 1963 | 0 | 0 | 0 | 0 | ⋯ | 0 | 0 | 0 | 0 | 0 | 0 | 1 | 0 | 1 | 0 |\n",
       "| 17 |  912 | 1669 | 4.412822 | Casablanca (1942)                                                           | Drama|Romance|War | 1942 | 0 | 0 | 0 | 0 | ⋯ | 0 | 0 | 0 | 0 | 0 | 1 | 0 | 0 | 1 | 0 |\n",
       "| 29 | 1204 |  831 | 4.401925 | Lawrence of Arabia (1962)                                                   | Adventure|War     | 1962 | 0 | 1 | 0 | 0 | ⋯ | 0 | 0 | 0 | 0 | 0 | 0 | 0 | 0 | 1 | 0 |\n",
       "\n"
      ],
      "text/plain": [
       "   MovieID num_ratings avg_ratings\n",
       "12  527    2304        4.510417   \n",
       "25 1178     230        4.473913   \n",
       "15  750    1367        4.449890   \n",
       "17  912    1669        4.412822   \n",
       "29 1204     831        4.401925   \n",
       "   Title                                                                      \n",
       "12 Schindler's List (1993)                                                    \n",
       "25 Paths of Glory (1957)                                                      \n",
       "15 Dr. Strangelove or: How I Learned to Stop Worrying and Love the Bomb (1963)\n",
       "17 Casablanca (1942)                                                          \n",
       "29 Lawrence of Arabia (1962)                                                  \n",
       "   Genres            Year Action Adventure Animation Children's ⋯ Fantasy\n",
       "12 Drama|War         1993 0      0         0         0          ⋯ 0      \n",
       "25 Drama|War         1957 0      0         0         0          ⋯ 0      \n",
       "15 Sci-Fi|War        1963 0      0         0         0          ⋯ 0      \n",
       "17 Drama|Romance|War 1942 0      0         0         0          ⋯ 0      \n",
       "29 Adventure|War     1962 0      1         0         0          ⋯ 0      \n",
       "   Film-Noir Horror Musical Mystery Romance Sci-Fi Thriller War Western\n",
       "12 0         0      0       0       0       0      0        1   0      \n",
       "25 0         0      0       0       0       0      0        1   0      \n",
       "15 0         0      0       0       0       1      0        1   0      \n",
       "17 0         0      0       0       1       0      0        1   0      \n",
       "29 0         0      0       0       0       0      0        1   0      "
      ]
     },
     "metadata": {},
     "output_type": "display_data"
    }
   ],
   "source": [
    "recommend_by_genre_avg(\"War\")"
   ]
  },
  {
   "cell_type": "markdown",
   "id": "4e3608d3",
   "metadata": {},
   "source": [
    "### Recommendation Scheme I: Top-5 Trendiest Movies"
   ]
  },
  {
   "cell_type": "markdown",
   "id": "6227b77a",
   "metadata": {},
   "source": [
    "Here, we define \"trendy\" as movies that have the most ratings, i.e., largest number of people watched and rated the movie, with a minimum average rating of 3. Similar to the previous recommendation system, the limitation on `avg_ratings` is meant to filter out \"bad\" recommendations, where even though the movie has a large number of ratings, most are negative."
   ]
  },
  {
   "cell_type": "markdown",
   "id": "34e10c05",
   "metadata": {},
   "source": [
    "Similar to before, to compute the trendiest movies per genre, we, first, find the movies in the given genre. Then, we filter out the movies with average rating less than 3.0. For the remaining movies, we compute the number of ratings and return the 5 movie with the highest number of ratings."
   ]
  },
  {
   "cell_type": "code",
   "execution_count": 9,
   "id": "633de407",
   "metadata": {},
   "outputs": [],
   "source": [
    "recommend_by_genre_num <- function(genre, num_rec = 5) {\n",
    "    # aggregate reviews for each movie\n",
    "    tmp = ratings %>% \n",
    "      group_by(MovieID) %>% \n",
    "      summarize(num_ratings = n(), avg_ratings = mean(Rating)) %>%\n",
    "      inner_join(movies, by = 'MovieID')\n",
    "    # filter movies by minimum average rating required\n",
    "    min_avg_ratings = 3.0\n",
    "    trendy_num_ratings = as.data.frame(tmp %>% \n",
    "      filter(avg_ratings >= min_avg_ratings), stringsAsFactors=FALSE)\n",
    "    # create a binary movies x genres + MovieID matrix\n",
    "    genres = as.data.frame(movies$Genres, stringsAsFactors=FALSE)\n",
    "    tmp = as.data.frame(tstrsplit(genres[,1], '[|]',\n",
    "                                  type.convert=TRUE),\n",
    "                        stringsAsFactors=FALSE)\n",
    "    genre_list = c(\"Action\", \"Adventure\", \"Animation\", \n",
    "                   \"Children's\", \"Comedy\", \"Crime\",\n",
    "                   \"Documentary\", \"Drama\", \"Fantasy\",\n",
    "                   \"Film-Noir\", \"Horror\", \"Musical\", \n",
    "                   \"Mystery\", \"Romance\", \"Sci-Fi\", \n",
    "                   \"Thriller\", \"War\", \"Western\")\n",
    "    m = length(genre_list)\n",
    "    genre_matrix = matrix(0, nrow(movies), length(genre_list))\n",
    "    for(i in 1:nrow(tmp)){\n",
    "      genre_matrix[i,genre_list %in% tmp[i,]]=1\n",
    "    }\n",
    "    colnames(genre_matrix) = genre_list\n",
    "    genre_matrix <- cbind(genre_matrix, MovieID = movies$MovieID)\n",
    "    remove(\"tmp\", \"genres\")\n",
    "    # create a joined matrix of movies in the `genre` and associated num rating\n",
    "    # sorted descending\n",
    "    genre_movies = as.data.frame(genre_matrix[genre_matrix[, genre] == 1,,drop=FALSE],\n",
    "                             stringsAsFactors=FALSE)\n",
    "    genre_num_ratings = trendy_num_ratings %>% \n",
    "        inner_join(genre_movies, by = 'MovieID')\n",
    "    genre_num_ratings = genre_num_ratings[order(-genre_num_ratings$num_ratings),]\n",
    "    return(head(genre_num_ratings, num_rec))\n",
    "}"
   ]
  },
  {
   "cell_type": "code",
   "execution_count": 10,
   "id": "c3333e57",
   "metadata": {},
   "outputs": [
    {
     "data": {
      "text/html": [
       "<table class=\"dataframe\">\n",
       "<caption>A data.frame: 5 × 24</caption>\n",
       "<thead>\n",
       "\t<tr><th></th><th scope=col>MovieID</th><th scope=col>num_ratings</th><th scope=col>avg_ratings</th><th scope=col>Title</th><th scope=col>Genres</th><th scope=col>Year</th><th scope=col>Action</th><th scope=col>Adventure</th><th scope=col>Animation</th><th scope=col>Children's</th><th scope=col>⋯</th><th scope=col>Fantasy</th><th scope=col>Film-Noir</th><th scope=col>Horror</th><th scope=col>Musical</th><th scope=col>Mystery</th><th scope=col>Romance</th><th scope=col>Sci-Fi</th><th scope=col>Thriller</th><th scope=col>War</th><th scope=col>Western</th></tr>\n",
       "\t<tr><th></th><th scope=col>&lt;dbl&gt;</th><th scope=col>&lt;int&gt;</th><th scope=col>&lt;dbl&gt;</th><th scope=col>&lt;chr&gt;</th><th scope=col>&lt;chr&gt;</th><th scope=col>&lt;dbl&gt;</th><th scope=col>&lt;dbl&gt;</th><th scope=col>&lt;dbl&gt;</th><th scope=col>&lt;dbl&gt;</th><th scope=col>&lt;dbl&gt;</th><th scope=col>⋯</th><th scope=col>&lt;dbl&gt;</th><th scope=col>&lt;dbl&gt;</th><th scope=col>&lt;dbl&gt;</th><th scope=col>&lt;dbl&gt;</th><th scope=col>&lt;dbl&gt;</th><th scope=col>&lt;dbl&gt;</th><th scope=col>&lt;dbl&gt;</th><th scope=col>&lt;dbl&gt;</th><th scope=col>&lt;dbl&gt;</th><th scope=col>&lt;dbl&gt;</th></tr>\n",
       "</thead>\n",
       "<tbody>\n",
       "\t<tr><th scope=row>15</th><td> 260</td><td>2991</td><td>4.453694</td><td>Star Wars: Episode IV - A New Hope (1977)            </td><td>Action|Adventure|Fantasy|Sci-Fi    </td><td>1977</td><td>1</td><td>1</td><td>0</td><td>0</td><td>⋯</td><td>1</td><td>0</td><td>0</td><td>0</td><td>0</td><td>0</td><td>1</td><td>0</td><td>0</td><td>0</td></tr>\n",
       "\t<tr><th scope=row>68</th><td>1196</td><td>2990</td><td>4.292977</td><td>Star Wars: Episode V - The Empire Strikes Back (1980)</td><td>Action|Adventure|Drama|Sci-Fi|War  </td><td>1980</td><td>1</td><td>1</td><td>0</td><td>0</td><td>⋯</td><td>0</td><td>0</td><td>0</td><td>0</td><td>0</td><td>0</td><td>1</td><td>0</td><td>1</td><td>0</td></tr>\n",
       "\t<tr><th scope=row>74</th><td>1210</td><td>2883</td><td>4.022893</td><td>Star Wars: Episode VI - Return of the Jedi (1983)    </td><td>Action|Adventure|Romance|Sci-Fi|War</td><td>1983</td><td>1</td><td>1</td><td>0</td><td>0</td><td>⋯</td><td>0</td><td>0</td><td>0</td><td>0</td><td>0</td><td>1</td><td>1</td><td>0</td><td>1</td><td>0</td></tr>\n",
       "\t<tr><th scope=row>35</th><td> 480</td><td>2672</td><td>3.763847</td><td>Jurassic Park (1993)                                 </td><td>Action|Adventure|Sci-Fi            </td><td>1993</td><td>1</td><td>1</td><td>0</td><td>0</td><td>⋯</td><td>0</td><td>0</td><td>0</td><td>0</td><td>0</td><td>0</td><td>1</td><td>0</td><td>0</td><td>0</td></tr>\n",
       "\t<tr><th scope=row>149</th><td>2028</td><td>2653</td><td>4.337354</td><td>Saving Private Ryan (1998)                           </td><td>Action|Drama|War                   </td><td>1998</td><td>1</td><td>0</td><td>0</td><td>0</td><td>⋯</td><td>0</td><td>0</td><td>0</td><td>0</td><td>0</td><td>0</td><td>0</td><td>0</td><td>1</td><td>0</td></tr>\n",
       "</tbody>\n",
       "</table>\n"
      ],
      "text/latex": [
       "A data.frame: 5 × 24\n",
       "\\begin{tabular}{r|lllllllllllllllllllll}\n",
       "  & MovieID & num\\_ratings & avg\\_ratings & Title & Genres & Year & Action & Adventure & Animation & Children's & ⋯ & Fantasy & Film-Noir & Horror & Musical & Mystery & Romance & Sci-Fi & Thriller & War & Western\\\\\n",
       "  & <dbl> & <int> & <dbl> & <chr> & <chr> & <dbl> & <dbl> & <dbl> & <dbl> & <dbl> & ⋯ & <dbl> & <dbl> & <dbl> & <dbl> & <dbl> & <dbl> & <dbl> & <dbl> & <dbl> & <dbl>\\\\\n",
       "\\hline\n",
       "\t15 &  260 & 2991 & 4.453694 & Star Wars: Episode IV - A New Hope (1977)             & Action\\textbar{}Adventure\\textbar{}Fantasy\\textbar{}Sci-Fi     & 1977 & 1 & 1 & 0 & 0 & ⋯ & 1 & 0 & 0 & 0 & 0 & 0 & 1 & 0 & 0 & 0\\\\\n",
       "\t68 & 1196 & 2990 & 4.292977 & Star Wars: Episode V - The Empire Strikes Back (1980) & Action\\textbar{}Adventure\\textbar{}Drama\\textbar{}Sci-Fi\\textbar{}War   & 1980 & 1 & 1 & 0 & 0 & ⋯ & 0 & 0 & 0 & 0 & 0 & 0 & 1 & 0 & 1 & 0\\\\\n",
       "\t74 & 1210 & 2883 & 4.022893 & Star Wars: Episode VI - Return of the Jedi (1983)     & Action\\textbar{}Adventure\\textbar{}Romance\\textbar{}Sci-Fi\\textbar{}War & 1983 & 1 & 1 & 0 & 0 & ⋯ & 0 & 0 & 0 & 0 & 0 & 1 & 1 & 0 & 1 & 0\\\\\n",
       "\t35 &  480 & 2672 & 3.763847 & Jurassic Park (1993)                                  & Action\\textbar{}Adventure\\textbar{}Sci-Fi             & 1993 & 1 & 1 & 0 & 0 & ⋯ & 0 & 0 & 0 & 0 & 0 & 0 & 1 & 0 & 0 & 0\\\\\n",
       "\t149 & 2028 & 2653 & 4.337354 & Saving Private Ryan (1998)                            & Action\\textbar{}Drama\\textbar{}War                    & 1998 & 1 & 0 & 0 & 0 & ⋯ & 0 & 0 & 0 & 0 & 0 & 0 & 0 & 0 & 1 & 0\\\\\n",
       "\\end{tabular}\n"
      ],
      "text/markdown": [
       "\n",
       "A data.frame: 5 × 24\n",
       "\n",
       "| <!--/--> | MovieID &lt;dbl&gt; | num_ratings &lt;int&gt; | avg_ratings &lt;dbl&gt; | Title &lt;chr&gt; | Genres &lt;chr&gt; | Year &lt;dbl&gt; | Action &lt;dbl&gt; | Adventure &lt;dbl&gt; | Animation &lt;dbl&gt; | Children's &lt;dbl&gt; | ⋯ ⋯ | Fantasy &lt;dbl&gt; | Film-Noir &lt;dbl&gt; | Horror &lt;dbl&gt; | Musical &lt;dbl&gt; | Mystery &lt;dbl&gt; | Romance &lt;dbl&gt; | Sci-Fi &lt;dbl&gt; | Thriller &lt;dbl&gt; | War &lt;dbl&gt; | Western &lt;dbl&gt; |\n",
       "|---|---|---|---|---|---|---|---|---|---|---|---|---|---|---|---|---|---|---|---|---|---|\n",
       "| 15 |  260 | 2991 | 4.453694 | Star Wars: Episode IV - A New Hope (1977)             | Action|Adventure|Fantasy|Sci-Fi     | 1977 | 1 | 1 | 0 | 0 | ⋯ | 1 | 0 | 0 | 0 | 0 | 0 | 1 | 0 | 0 | 0 |\n",
       "| 68 | 1196 | 2990 | 4.292977 | Star Wars: Episode V - The Empire Strikes Back (1980) | Action|Adventure|Drama|Sci-Fi|War   | 1980 | 1 | 1 | 0 | 0 | ⋯ | 0 | 0 | 0 | 0 | 0 | 0 | 1 | 0 | 1 | 0 |\n",
       "| 74 | 1210 | 2883 | 4.022893 | Star Wars: Episode VI - Return of the Jedi (1983)     | Action|Adventure|Romance|Sci-Fi|War | 1983 | 1 | 1 | 0 | 0 | ⋯ | 0 | 0 | 0 | 0 | 0 | 1 | 1 | 0 | 1 | 0 |\n",
       "| 35 |  480 | 2672 | 3.763847 | Jurassic Park (1993)                                  | Action|Adventure|Sci-Fi             | 1993 | 1 | 1 | 0 | 0 | ⋯ | 0 | 0 | 0 | 0 | 0 | 0 | 1 | 0 | 0 | 0 |\n",
       "| 149 | 2028 | 2653 | 4.337354 | Saving Private Ryan (1998)                            | Action|Drama|War                    | 1998 | 1 | 0 | 0 | 0 | ⋯ | 0 | 0 | 0 | 0 | 0 | 0 | 0 | 0 | 1 | 0 |\n",
       "\n"
      ],
      "text/plain": [
       "    MovieID num_ratings avg_ratings\n",
       "15   260    2991        4.453694   \n",
       "68  1196    2990        4.292977   \n",
       "74  1210    2883        4.022893   \n",
       "35   480    2672        3.763847   \n",
       "149 2028    2653        4.337354   \n",
       "    Title                                                \n",
       "15  Star Wars: Episode IV - A New Hope (1977)            \n",
       "68  Star Wars: Episode V - The Empire Strikes Back (1980)\n",
       "74  Star Wars: Episode VI - Return of the Jedi (1983)    \n",
       "35  Jurassic Park (1993)                                 \n",
       "149 Saving Private Ryan (1998)                           \n",
       "    Genres                              Year Action Adventure Animation\n",
       "15  Action|Adventure|Fantasy|Sci-Fi     1977 1      1         0        \n",
       "68  Action|Adventure|Drama|Sci-Fi|War   1980 1      1         0        \n",
       "74  Action|Adventure|Romance|Sci-Fi|War 1983 1      1         0        \n",
       "35  Action|Adventure|Sci-Fi             1993 1      1         0        \n",
       "149 Action|Drama|War                    1998 1      0         0        \n",
       "    Children's ⋯ Fantasy Film-Noir Horror Musical Mystery Romance Sci-Fi\n",
       "15  0          ⋯ 1       0         0      0       0       0       1     \n",
       "68  0          ⋯ 0       0         0      0       0       0       1     \n",
       "74  0          ⋯ 0       0         0      0       0       1       1     \n",
       "35  0          ⋯ 0       0         0      0       0       0       1     \n",
       "149 0          ⋯ 0       0         0      0       0       0       0     \n",
       "    Thriller War Western\n",
       "15  0        0   0      \n",
       "68  0        1   0      \n",
       "74  0        1   0      \n",
       "35  0        0   0      \n",
       "149 0        1   0      "
      ]
     },
     "metadata": {},
     "output_type": "display_data"
    }
   ],
   "source": [
    "recommend_by_genre_num(\"Action\")"
   ]
  },
  {
   "cell_type": "markdown",
   "id": "1b67bc00",
   "metadata": {},
   "source": [
    "For ShinyApps System I, the latter recommendation scheme, i.e., Top-$n$ Trendiest Movies, was used. That is, results for each genre were cached and loaded into ShinyApps for faster processing."
   ]
  },
  {
   "cell_type": "markdown",
   "id": "baef0558",
   "metadata": {},
   "source": [
    "## System II: Recommendation based on genres\n",
    "\n",
    "Review **two** collaborative recommendation algorithms: UBCF and IBCF. (Suggest reading Sec 2.1-2.2 of the [recommenderlab tutorial](https://cran.r-project.org/web/packages/recommenderlab/vignettes/recommenderlab.pdf))\n",
    "\n",
    "Please follow the following steps to provide your review."
   ]
  },
  {
   "cell_type": "markdown",
   "id": "37533e14",
   "metadata": {},
   "source": [
    "### User-based collaborative filtering (UBCF)"
   ]
  },
  {
   "cell_type": "markdown",
   "id": "2e45db63",
   "metadata": {},
   "source": [
    "For UBCF, use the following options:\n",
    "\n",
    "- `normalize = 'center'`: Let $R$ denote the rating matrix with rows as users and columns as movies; this option means that we need to subtract each non-NA entry by its row mean. Here, row means are computed based on non-NA entries; for example, the mean of vector (2, 4, NA, NA) should be 3.\n",
    "- `nn = 20`: nearest neighborhood size is 20. That is, the prediction for a new user is based on ratings from 20 users who are most similar to this new user.\n",
    "- `weighted = TRUE`: (this is the default option) Ratings from users that are more similar to the new user receive higher weights. That is, we use equation (4) (on page 6) instead of equation (3) (on page 5) in recommenderlab tutorial\n",
    "- `method = 'Cosine'`: this similarity measure is defined in the 2nd paragraph of Sec 2.1 in recommenderlab tutorial. Remember to transform this measure to be between 0 and 1. There is a typo in the transformation formula in the tutorial; see below.\n",
    "\n",
    "![Correction](correction.png \"Correction\")"
   ]
  },
  {
   "cell_type": "markdown",
   "id": "8603e198",
   "metadata": {},
   "source": [
    "In my implementation, as suggested, I first center the training and test data and then use `proxy::simil` to create a cosine similarity vector, $S_{n}$, where $n$ is the number of users. I, then, get the indicies of the top $nn = 20$ users with highest similarity scores. Then, I use the modified $S$ matrix to calculate the ratings for each movie based on the available ratings from the user using the following formula for user $a$ and movie $l$:\n",
    "\n",
    "$$\n",
    "\\hat{r}_{al}=\\cfrac{1}{\\sum_{i\\in S}s_{i}}\\sum_{i\\in S}s_{i}r_{il}\n",
    "$$\n",
    "where $S = \\{i: s_i\\text{ and }r_{ij}\\text{ not NA}\\}$ only contains movies rated by user $a$, i.e., non-`NA`.\n",
    "\n",
    "Finally, the following post-processing steps are done before returning the final predicted ratings:\n",
    "- Add back the mean of the test user to the predicted ratings\n",
    "- Set infinite and `nan` values to `NA`\n",
    "- Set movies watched by the test user to `NA`\n",
    "\n",
    "With the above method, I was able to outperform the set performance criteria."
   ]
  },
  {
   "cell_type": "code",
   "execution_count": 14,
   "id": "1e63122d",
   "metadata": {},
   "outputs": [],
   "source": [
    "ubcf <- function(R_train, R_test, nn = 20) {\n",
    "    # normalize data\n",
    "    data = as(R_train, \"matrix\")\n",
    "    user.means = rowMeans(data, na.rm = TRUE)\n",
    "    data = data - user.means\n",
    "    newdata = as(R_test, \"matrix\")\n",
    "    newuser.means = rowMeans(newdata, na.rm = TRUE)\n",
    "    newdata = newdata - newuser.means\n",
    "    # similarity vector\n",
    "    user_sim = as.vector(proxy::simil(data, newdata, method = \"cosine\"))\n",
    "    user_sim = (1 + user_sim) / 2\n",
    "    # sort similarities\n",
    "    top_n_idx <- sort(user_sim, index.return = TRUE, decreasing = TRUE)$ix[1:nn]\n",
    "    neighbor_ratings = data[top_n_idx,]\n",
    "    neighbor_sim = user_sim[top_n_idx]\n",
    "    predicted_ratings <- c()\n",
    "    for (j in 1:length(newdata)) {\n",
    "        if (sum(is.na(neighbor_ratings[,j])) == nn) {\n",
    "            predicted_ratings[j] = NA\n",
    "        } else {\n",
    "            predicted_ratings[j] = sum(neighbor_ratings[,j] * neighbor_sim, na.rm = TRUE)\n",
    "            predicted_ratings[j] = predicted_ratings[j] / sum((!is.na(neighbor_ratings[,j])) * neighbor_sim)\n",
    "        }\n",
    "    }\n",
    "\n",
    "    # Add back mean of test_user\n",
    "    predicted_ratings = predicted_ratings + newuser.means\n",
    "    # Set infinite values to NA\n",
    "    predicted_ratings[is.infinite(predicted_ratings) | is.nan(predicted_ratings)] <- NA\n",
    "    # Set movies watched by the test_user to NA\n",
    "    predicted_ratings[!is.na(newdata)] <- NA\n",
    "    return(predicted_ratings)\n",
    "}"
   ]
  },
  {
   "cell_type": "markdown",
   "id": "42bebb35",
   "metadata": {},
   "source": [
    "Here, I demonstrate how UBCF predicts the ratings of a new user based on training data. Use the first 500 users from MovieLens as training and predict the ratings of the 501st user."
   ]
  },
  {
   "cell_type": "code",
   "execution_count": 15,
   "id": "a19ffab3",
   "metadata": {},
   "outputs": [],
   "source": [
    "library(recommenderlab)\n",
    "myurl = \"https://liangfgithub.github.io/MovieData/\"\n",
    "ratings = read.csv(paste0(myurl, 'ratings.dat?raw=true'), \n",
    "                   sep = ':',\n",
    "                   colClasses = c('integer', 'NULL'), \n",
    "                   header = FALSE)\n",
    "colnames(ratings) = c('UserID', 'MovieID', 'Rating', 'Timestamp')\n",
    "i = paste0('u', ratings$UserID)\n",
    "j = paste0('m', ratings$MovieID)\n",
    "x = ratings$Rating\n",
    "tmp = data.frame(i, j, x, stringsAsFactors = T)\n",
    "Rmat = sparseMatrix(as.integer(tmp$i), as.integer(tmp$j), x = tmp$x)\n",
    "rownames(Rmat) = levels(tmp$i)\n",
    "colnames(Rmat) = levels(tmp$j)\n",
    "Rmat = new('realRatingMatrix', data = Rmat)\n",
    "\n",
    "train = Rmat[1:500, ]\n",
    "test = Rmat[501, ]"
   ]
  },
  {
   "cell_type": "markdown",
   "id": "980b8072",
   "metadata": {},
   "source": [
    "**Store the predicted ratings for the 501st user in a vector named `mypred`.** Remember to provide all necessary code so we can reproduce your calculation for `mypred`."
   ]
  },
  {
   "cell_type": "code",
   "execution_count": 16,
   "id": "d565742d",
   "metadata": {},
   "outputs": [],
   "source": [
    "mypred <- ubcf(train, test, nn = 20)"
   ]
  },
  {
   "cell_type": "markdown",
   "id": "0d1e9006",
   "metadata": {},
   "source": [
    "Next, compare your prediction with the one from `recommenderlab`"
   ]
  },
  {
   "cell_type": "code",
   "execution_count": 17,
   "id": "800a7731",
   "metadata": {},
   "outputs": [
    {
     "data": {
      "text/html": [
       "0"
      ],
      "text/latex": [
       "0"
      ],
      "text/markdown": [
       "0"
      ],
      "text/plain": [
       "[1] 0"
      ]
     },
     "metadata": {},
     "output_type": "display_data"
    },
    {
     "data": {
      "text/html": [
       "4.95357227681126e-07"
      ],
      "text/latex": [
       "4.95357227681126e-07"
      ],
      "text/markdown": [
       "4.95357227681126e-07"
      ],
      "text/plain": [
       "[1] 4.953572e-07"
      ]
     },
     "metadata": {},
     "output_type": "display_data"
    }
   ],
   "source": [
    "recommender.UBCF <- Recommender(train, method = \"UBCF\",\n",
    "                                parameter = list(normalize = 'center', \n",
    "                                                 method = 'Cosine', \n",
    "                                                 nn = 20))\n",
    "\n",
    "p.UBCF <- predict(recommender.UBCF, test, type=\"ratings\")\n",
    "p.UBCF <- as.numeric(as(p.UBCF, \"matrix\"))\n",
    "\n",
    "sum(is.na(p.UBCF) != is.na(mypred)) ### should be zero\n",
    "max(abs(p.UBCF - mypred), na.rm = TRUE)  ### should be less than 1e-06 "
   ]
  },
  {
   "cell_type": "markdown",
   "id": "2b7036fe",
   "metadata": {},
   "source": [
    "The last two commands above show that (1)  `p.UBCF` and `mypred` assign NA to the same set of movies and (2) their non-NA predictions are very close (**should be less than 1e-06**)."
   ]
  },
  {
   "cell_type": "markdown",
   "id": "5696aec8",
   "metadata": {},
   "source": [
    "**NAs in the prediction.** In `mypred` and `p.UBCF`, a movie may receive NA prediction due to two reasons: 1) none of the 20 similar users has provided a rating for this movie yet; 2) the 501st user has watched this movie before (i.e., s/he has already assigned a rating for this movie)."
   ]
  },
  {
   "cell_type": "markdown",
   "id": "db45086c",
   "metadata": {},
   "source": [
    "### Item-based collaborative filtering (IBCF)"
   ]
  },
  {
   "cell_type": "markdown",
   "id": "91b29f86",
   "metadata": {},
   "source": [
    "Do the same for IBCF. For IBCF, use the following options:\n",
    "\n",
    "- `normalize = 'center'`\n",
    "- `k = 30`: the nearest neighborhood size for items is 30.\n",
    "- `weighted = TRUE`: (this is the default option) That is, we use equation (5) (on page 7) in [recommenderlab tutorial](https://cran.r-project.org/web/packages/recommenderlab/vignettes/recommenderlab.pdf)\n",
    "- `method = 'Cosine'`"
   ]
  },
  {
   "cell_type": "markdown",
   "id": "e8be00d3",
   "metadata": {},
   "source": [
    "In my implementation, as suggested, I first center the training data and then use `proxy::simil` to create a similarity matrix, $S_{m\\times m}$ for movies, i.e., $m\\times m$, where $m$ is the number of movies. I pre-process $S$ to only set the top $nn = 30$ values to non-`NA`. Then, I use the modified $S$ matrix to calculate the ratings for each movie based on the available ratings from the user using the following formula for user $a$ and movie $l$:\n",
    "\n",
    "$$\n",
    "\\hat{r}_{al}=\\cfrac{1}{\\sum_{i\\in S(l)}s_{li}}\\sum_{i\\in S(l)}s_{li}r_{ai}\n",
    "$$\n",
    "where $S(l)$ only contains movies rated by user $a$, i.e., non-`NA`.\n",
    "\n",
    "Note that the test data was not centered as its values are directly used in the computation of the predicted ratings, so remove and adding the mean to test data would not have any effect.\n",
    "\n",
    "Finally, the rest of the post-processing steps are done similar to before:\n",
    "- Set infinite and `nan` values to `NA`\n",
    "- Set movies watched by the test user to `NA`\n",
    "\n",
    "With the above method, I was able to outperform the set performance criteria."
   ]
  },
  {
   "cell_type": "code",
   "execution_count": 18,
   "id": "72ce3453",
   "metadata": {},
   "outputs": [],
   "source": [
    "ibcf <- function(R_train, R_test, nn = 30) {\n",
    "    # normalize data\n",
    "    data = as(R_train, \"matrix\")\n",
    "    user.means = rowMeans(data, na.rm = T)\n",
    "    data = data - user.means\n",
    "    newdata = as(R_test, \"matrix\")\n",
    "\n",
    "    # similarity matrix\n",
    "    item.sim = as.matrix(proxy::simil(t(data), method = \"cosine\"))\n",
    "    item.sim = (1 + item.sim) / 2\n",
    "    # process similarity matrix\n",
    "    for (i in 1:nrow(item.sim)) {\n",
    "        neighbor_idx <- tail(order(item.sim[i,], decreasing = F, na.last = F), nn)\n",
    "        item.sim[i, -neighbor_idx] <- NA\n",
    "    }\n",
    "\n",
    "    non_na = which(!is.na(newdata))\n",
    "    predicted_ratings = colSums(t(item.sim[,non_na]) * newdata[non_na], na.rm = T)\n",
    "    predicted_ratings = predicted_ratings / rowSums(item.sim[,non_na], na.rm = T)\n",
    "\n",
    "    # Set infinite values to NA\n",
    "    predicted_ratings[is.infinite(predicted_ratings) | is.nan(predicted_ratings)] <- NA\n",
    "    # Set movies watched by the test_user to NA\n",
    "    predicted_ratings[!is.na(newdata)] <- NA\n",
    "    return(predicted_ratings)\n",
    "}"
   ]
  },
  {
   "cell_type": "markdown",
   "id": "cc8a1e85",
   "metadata": {},
   "source": [
    "**Store your prediction for the 501st user in a vector named `mypred`.** Then compare your prediction with the one from `recommenderlab`"
   ]
  },
  {
   "cell_type": "code",
   "execution_count": 19,
   "id": "cb05185d",
   "metadata": {},
   "outputs": [],
   "source": [
    "mypred <- ibcf(train, test, nn = 30)"
   ]
  },
  {
   "cell_type": "markdown",
   "id": "a1d53a8b",
   "metadata": {},
   "source": [
    "Again, demonstrate how IBCF predicts the ratings of the 501st user based on ratings from the first 500 users."
   ]
  },
  {
   "cell_type": "code",
   "execution_count": 20,
   "id": "6fbc8a37",
   "metadata": {},
   "outputs": [
    {
     "data": {
      "text/html": [
       "1"
      ],
      "text/latex": [
       "1"
      ],
      "text/markdown": [
       "1"
      ],
      "text/plain": [
       "[1] 1"
      ]
     },
     "metadata": {},
     "output_type": "display_data"
    },
    {
     "data": {
      "text/html": [
       "0.0824305228450306"
      ],
      "text/latex": [
       "0.0824305228450306"
      ],
      "text/markdown": [
       "0.0824305228450306"
      ],
      "text/plain": [
       "[1] 0.08243052"
      ]
     },
     "metadata": {},
     "output_type": "display_data"
    }
   ],
   "source": [
    "recommender.IBCF <- Recommender(train, method = \"IBCF\",\n",
    "                                parameter = list(normalize = 'center', \n",
    "                                                 method = 'Cosine', \n",
    "                                                 k = 30))\n",
    "\n",
    "p.IBCF <- predict(recommender.IBCF, test, type=\"ratings\")\n",
    "p.IBCF <- as.numeric(as(p.IBCF, \"matrix\"))\n",
    "\n",
    "## first output: should be less than 10\n",
    "sum(is.na(p.IBCF) != is.na(mypred))  \n",
    "\n",
    "## second output: should be less than 10%\n",
    "mydiff = abs(p.IBCF - mypred)\n",
    "sum(mydiff[!is.na(mydiff)] > 1e-6) / sum(!is.na(mydiff)) "
   ]
  },
  {
   "cell_type": "markdown",
   "id": "41ad4758",
   "metadata": {},
   "source": [
    "The first output measures how many mismatches among NA assignments are between `p.IBCF` and `mypred`. You should target to have less than 10 mismatches.\n",
    "\n",
    "The second output measures the percentage of disagreement (difference bigger than 1e-06) among non-NA predictions. You should target to have this number less than 10%."
   ]
  },
  {
   "cell_type": "markdown",
   "id": "8b8e810c",
   "metadata": {},
   "source": [
    "**Question:** why do we encounter such a big discrepancy for IBCF, but not for UBCF? I have a partial answer but would like students to think about it."
   ]
  },
  {
   "cell_type": "markdown",
   "id": "bb291c2b",
   "metadata": {},
   "source": [
    "UBCF is a relatively simpler algorithm with no need for a training step, compared to IBCF. There are some choices that we made in our implementation of IBCF that could've led to this discrepancy. For example, we disregarded `NA` values throughout our calculation. Potentially, `recommenderlab` could have chosen to impute some values. Given the vector multiplicaiton and $m\\times m$ similarity matrix, any decision to alter the values could lead to bigger changes when compared to UBCF. Namely, even scaling the similarity matrix by `(1 + mat) / 2` could be implemented differently in `recommenderlab` for IBCF which could explain the big discrepancy."
   ]
  },
  {
   "cell_type": "markdown",
   "id": "d758274a",
   "metadata": {},
   "source": [
    "## Resources\n",
    "\n",
    "You can use others' code, as long as you cite the source.\n",
    "\n",
    "- Github for the nice Book Recommender System mentioned above [https://github.com/pspachtholz/BookRecommender] where you can also find his Kaggle report.\n",
    "- R code for `recommenderlab` can be found here [Link]"
   ]
  }
 ],
 "metadata": {
  "kernelspec": {
   "display_name": "R",
   "language": "R",
   "name": "ir"
  },
  "language_info": {
   "codemirror_mode": "r",
   "file_extension": ".r",
   "mimetype": "text/x-r-source",
   "name": "R",
   "pygments_lexer": "r",
   "version": "4.2.1"
  }
 },
 "nbformat": 4,
 "nbformat_minor": 5
}
